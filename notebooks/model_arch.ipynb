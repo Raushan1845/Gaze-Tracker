{
 "cells": [
  {
   "cell_type": "code",
   "execution_count": 1,
   "id": "ec82a360-04dd-4c38-98af-7e35fc43255a",
   "metadata": {},
   "outputs": [
    {
     "name": "stdout",
     "output_type": "stream",
     "text": [
      "The history saving thread hit an unexpected error (DatabaseError('database disk image is malformed')).History will not be written to the database.\n"
     ]
    }
   ],
   "source": [
    "import tensorflow as tf\n",
    "from tensorflow.keras import Model, layers, Input"
   ]
  },
  {
   "cell_type": "code",
   "execution_count": 2,
   "id": "6c572665-009c-4945-ac69-57629db3c140",
   "metadata": {},
   "outputs": [],
   "source": [
    "class eye_model(layers.Layer):\n",
    "  def __init__(self, name='Eye-model'):\n",
    "    super(eye_model, self).__init__()\n",
    "\n",
    "    self.conv1 = layers.Conv2D(32, kernel_size=7, strides=2, padding='valid')\n",
    "    self.conv2 = layers.Conv2D(64, kernel_size=5, strides=2, padding='valid')\n",
    "    self.conv3 = layers.Conv2D(128, kernel_size=3, strides=1, padding='valid')\n",
    "    self.bn = layers.BatchNormalization(axis = 1, momentum=0.9)\n",
    "    self.leakyrelu = layers.LeakyReLU(alpha=0.01)\n",
    "    self.avgpool = layers.AveragePooling2D(pool_size=2)\n",
    "    self.dropout = layers.Dropout(rate=0.02)\n",
    "    \n",
    "\n",
    "  def call(self, input_image):\n",
    "    x = self.conv1(input_image)\n",
    "    x = self.bn(x)\n",
    "    x = self.leakyrelu(x)\n",
    "    x = self.avgpool(x)\n",
    "    x = self.dropout(x)\n",
    "    \n",
    "    x = self.conv2(x)\n",
    "    x = self.bn(x)\n",
    "    x = self.leakyrelu(x)\n",
    "    x = self.avgpool(x)\n",
    "    x = self.dropout(x)\n",
    "    \n",
    "    x = self.conv3(x)\n",
    "    x = self.bn(x)\n",
    "    x = self.leakyrelu(x)\n",
    "    x = self.avgpool(x)\n",
    "    x = self.dropout(x)\n",
    "    \n",
    "    return x"
   ]
  },
  {
   "cell_type": "code",
   "execution_count": 3,
   "id": "694631e5-23c4-4c8b-a6a4-e276b4e45ba2",
   "metadata": {},
   "outputs": [],
   "source": [
    "class landmark_model(layers.Layer):\n",
    "  def __init__(self, name='Landmark-model'):\n",
    "    super(landmark_model, self).__init__()\n",
    "\n",
    "    self.dense1 = layers.Dense(128)\n",
    "    self.dense2 = layers.Dense(16)\n",
    "    self.dense3 = layers.Dense(16)\n",
    "    self.bn = layers.BatchNormalization(momentum=0.9)\n",
    "    self.relu = layers.ReLU()\n",
    "\n",
    "  def call(self, input_kps):\n",
    "    x = self.dense1(input_kps)\n",
    "    x = self.bn(x)\n",
    "    x = self.relu(x)\n",
    "    \n",
    "    x = self.dense2(x)\n",
    "    x = self.bn(x)\n",
    "    x = self.relu(x)\n",
    "    \n",
    "    x = self.dense3(x)\n",
    "    x = self.bn(x)\n",
    "    x = self.relu(x)   \n",
    "    \n",
    "    return x"
   ]
  },
  {
   "cell_type": "code",
   "execution_count": 4,
   "id": "b03bd361-3d24-43ed-825c-8eeacb28e994",
   "metadata": {},
   "outputs": [
    {
     "ename": "SyntaxError",
     "evalue": "invalid syntax (<ipython-input-4-ff02bfce5e50>, line 18)",
     "output_type": "error",
     "traceback": [
      "\u001b[0;36m  File \u001b[0;32m\"<ipython-input-4-ff02bfce5e50>\"\u001b[0;36m, line \u001b[0;32m18\u001b[0m\n\u001b[0;31m    def call(self, [leftEye, rightEye, lms]):\u001b[0m\n\u001b[0m                   ^\u001b[0m\n\u001b[0;31mSyntaxError\u001b[0m\u001b[0;31m:\u001b[0m invalid syntax\n"
     ]
    }
   ],
   "source": [
    "class gazetrack_model(Model):\n",
    "  def __init__(self, name='Gazetrack-model'):\n",
    "    super(gazetrack_model, self).__init__()\n",
    "\n",
    "    self.eye_model = eye_model()\n",
    "    self.lmModel = landmark_model()\n",
    "    \n",
    "    self.dense1 = layers.Dense(8)\n",
    "    self.dense2 = layers.Dense(4)\n",
    "    self.dense3 = layers.Dense(2)\n",
    "    \n",
    "    self.bn = layers.BatchNormalization(momentum=0.9)\n",
    "    self.dropout = layers.Dropout(rate=0.12)\n",
    "    self.relu = layers.ReLU()\n",
    "\n",
    "    \n",
    "\n",
    "  def call(self, [leftEye, rightEye, lms]):\n",
    "    l_eye_feat = tf.reshape(self.eye_model(leftEye), (3, 128*128))\n",
    "    r_eye_feat = tf.reshape(self.eye_model(rightEye), (3, 128*128))\n",
    "    \n",
    "    lm_feat = self.lmModel(lms)\n",
    "    \n",
    "    combined_feat = tf.concat((l_eye_feat, r_eye_feat, lm_feat),1)\n",
    "    \n",
    "    x = self.dense1(combined_feat)\n",
    "    x = self.bn(x)\n",
    "    x = self.dropout(x)\n",
    "    x = self.relu(x)\n",
    "    \n",
    "    x = self.dense2(x)\n",
    "    x = self.bn(x)\n",
    "    x = self.relu(x)\n",
    "    \n",
    "    x = self.dense3(x)\n",
    "    \n",
    "    return x"
   ]
  },
  {
   "cell_type": "code",
   "execution_count": null,
   "id": "a1e09f05-bab8-43cf-a24f-aaa2fdd3230a",
   "metadata": {},
   "outputs": [],
   "source": [
    "in_leye = Input(shape(128,128,3))"
   ]
  },
  {
   "cell_type": "code",
   "execution_count": null,
   "id": "0dcf01e2-916c-4d2c-91df-03aeb1299b21",
   "metadata": {},
   "outputs": [],
   "source": []
  }
 ],
 "metadata": {
  "kernelspec": {
   "display_name": "Python 3.8",
   "language": "python",
   "name": "python3"
  },
  "language_info": {
   "codemirror_mode": {
    "name": "ipython",
    "version": 3
   },
   "file_extension": ".py",
   "mimetype": "text/x-python",
   "name": "python",
   "nbconvert_exporter": "python",
   "pygments_lexer": "ipython3",
   "version": "3.8.2"
  }
 },
 "nbformat": 4,
 "nbformat_minor": 5
}
