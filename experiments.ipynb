{
 "cells": [
  {
   "cell_type": "code",
   "execution_count": 1,
   "id": "66ad45c4-205b-44dd-84f2-7b8878630eed",
   "metadata": {},
   "outputs": [],
   "source": [
    "import numpy as np\n",
    "import tensorflow as tf"
   ]
  },
  {
   "cell_type": "code",
   "execution_count": 4,
   "id": "bae80ff8-d1ba-4be3-9f2f-5ba9806adce2",
   "metadata": {},
   "outputs": [
    {
     "name": "stdout",
     "output_type": "stream",
     "text": [
      "3.7416573867739413\n"
     ]
    }
   ],
   "source": [
    "\n",
    "point1 = np.array([[1, 2, 2, 1],[2, 1, 3, 4], [4, 3, 1, 1]])\n",
    "point2 = np.array([[1, 3, 2, 1],[2, 2, 5, 4], [4, 1, 3, 1]])\n",
    " \n",
    "dist = np.linalg.norm(point1 - point2)\n",
    " \n",
    "\n",
    "print(dist)"
   ]
  },
  {
   "cell_type": "code",
   "execution_count": 5,
   "id": "41496288-183e-4b5e-963a-4db2bca78256",
   "metadata": {},
   "outputs": [
    {
     "name": "stdout",
     "output_type": "stream",
     "text": [
      "tf.Tensor([1.       2.236068 2.828427], shape=(3,), dtype=float32)\n"
     ]
    }
   ],
   "source": [
    "x1 = tf.Variable(point1, dtype = tf.float32)\n",
    "x2 = tf.Variable(point2, dtype = tf.float32)\n",
    "\n",
    "\n",
    "def euclideanDistance(x, y):\n",
    "    dist = tf.sqrt(tf.reduce_sum(tf.square(x - y), 1))\n",
    "    return dist\n",
    "\n",
    "\n",
    "d = euclideanDistance(x1, x2)\n",
    "print(d)"
   ]
  },
  {
   "cell_type": "code",
   "execution_count": 6,
   "id": "474465ff-b8cb-420b-91c0-cdb740c1fa7b",
   "metadata": {},
   "outputs": [
    {
     "name": "stdout",
     "output_type": "stream",
     "text": [
      "tf.Tensor(3.7416575, shape=(), dtype=float32)\n"
     ]
    }
   ],
   "source": [
    "l2_norm = tf.norm(x1-x2, ord='euclidean')\n",
    "print(l2_norm)"
   ]
  }
 ],
 "metadata": {
  "kernelspec": {
   "display_name": "Python 3.8",
   "language": "python",
   "name": "python3"
  },
  "language_info": {
   "codemirror_mode": {
    "name": "ipython",
    "version": 3
   },
   "file_extension": ".py",
   "mimetype": "text/x-python",
   "name": "python",
   "nbconvert_exporter": "python",
   "pygments_lexer": "ipython3",
   "version": "3.8.2"
  }
 },
 "nbformat": 4,
 "nbformat_minor": 5
}
